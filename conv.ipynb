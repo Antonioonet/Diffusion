{
  "cells": [
    {
      "cell_type": "code",
      "execution_count": 13,
      "metadata": {
        "id": "Pg8siF53hM1O"
      },
      "outputs": [],
      "source": [
        "# codar classificador com convnets, usando SGD e dataloaders codados na unha\n",
        "\n",
        "import torch\n",
        "from torch import tensor\n",
        "import numpy as np\n",
        "import pandas as pd\n",
        "import fastcore.all as fc\n",
        "import gc\n",
        "import random"
      ]
    },
    {
      "cell_type": "code",
      "source": [
        "train_path = \"/content/sample_data/mnist_train_small.csv\"\n",
        "valid_path = \"/content/sample_data/mnist_test.csv\"\n",
        "dft = pd.read_csv(train_path)\n",
        "dfv = pd.read_csv(valid_path)\n"
      ],
      "metadata": {
        "id": "WHA8BNBoh37s"
      },
      "execution_count": 2,
      "outputs": []
    },
    {
      "cell_type": "code",
      "source": [
        "train_ds = tensor(dft.values)\n",
        "valid_ds = tensor(dfv.values)"
      ],
      "metadata": {
        "id": "X-EyRHa8iHe2"
      },
      "execution_count": 3,
      "outputs": []
    },
    {
      "cell_type": "code",
      "source": [
        "class Dataset:\n",
        "  def __init__(self,x,y): fc.store_attr()\n",
        "\n",
        "  def __len__(self): return self(len(x))\n",
        "\n",
        "  def __getitem__(self,i): return self.x[i], self.y[i]\n",
        "\n",
        "\n",
        "dst = Dataset(train_ds[:,1:],train_ds[:,0])\n",
        "dsv = Dataset(valid_ds[:,1:],valid_ds[:,0])"
      ],
      "metadata": {
        "id": "O_vNqZjQmBd_"
      },
      "execution_count": 4,
      "outputs": []
    },
    {
      "cell_type": "code",
      "source": [
        "\n",
        "# escolhe a ordem dos elementos a serem pegos do dataloadder\n",
        "class BatchSampler:\n",
        "  def __init__(self,ds,bs,shuffle=False):\n",
        "      fc.store_attr()\n",
        "      self.sample = list(range(len(ds)))\n",
        "      if shuffle: self.sample.aplly(random.shuffle)\n",
        "  def __iter__(self):\n",
        "      for i in range(0,len(self.ds),self.bs): yield\n",
        "\n"
      ],
      "metadata": {
        "id": "inI-RKmeumqR",
        "outputId": "ff484c35-d9fa-4fee-ff2d-0b15c3143ba3",
        "colab": {
          "base_uri": "https://localhost:8080/",
          "height": 106
        }
      },
      "execution_count": 7,
      "outputs": [
        {
          "output_type": "error",
          "ename": "SyntaxError",
          "evalue": "incomplete input (<ipython-input-7-cfd82ba49785>, line 2)",
          "traceback": [
            "\u001b[0;36m  File \u001b[0;32m\"<ipython-input-7-cfd82ba49785>\"\u001b[0;36m, line \u001b[0;32m2\u001b[0m\n\u001b[0;31m    class sampler:\u001b[0m\n\u001b[0m                  ^\u001b[0m\n\u001b[0;31mSyntaxError\u001b[0m\u001b[0;31m:\u001b[0m incomplete input\n"
          ]
        }
      ]
    },
    {
      "cell_type": "code",
      "source": [
        "# construindo o Dataloader\n",
        "\n",
        "class Dataloader:\n",
        "  def __init__(self,ds,bs=64,n_workers=2,transform=fc.noop,): fc.store_attr()\n",
        "  def __iter__(self):\n",
        ""
      ],
      "metadata": {
        "id": "doPKt_RSkHn1",
        "outputId": "995778d5-3de9-41cf-988a-a3343231aa6d",
        "colab": {
          "base_uri": "https://localhost:8080/",
          "height": 106
        }
      },
      "execution_count": 6,
      "outputs": [
        {
          "output_type": "error",
          "ename": "SyntaxError",
          "evalue": "expected '(' (<ipython-input-6-357b0e92897e>, line 5)",
          "traceback": [
            "\u001b[0;36m  File \u001b[0;32m\"<ipython-input-6-357b0e92897e>\"\u001b[0;36m, line \u001b[0;32m5\u001b[0m\n\u001b[0;31m    def __iter\u001b[0m\n\u001b[0m               ^\u001b[0m\n\u001b[0;31mSyntaxError\u001b[0m\u001b[0;31m:\u001b[0m expected '('\n"
          ]
        }
      ]
    }
  ],
  "metadata": {
    "language_info": {
      "name": "python"
    },
    "colab": {
      "provenance": []
    },
    "kernelspec": {
      "name": "python3",
      "display_name": "Python 3"
    }
  },
  "nbformat": 4,
  "nbformat_minor": 0
}