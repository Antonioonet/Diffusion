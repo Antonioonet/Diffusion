{
  "cells": [
    {
      "cell_type": "code",
      "execution_count": 83,
      "metadata": {
        "id": "Pg8siF53hM1O"
      },
      "outputs": [],
      "source": [
        "# codar classificador com convnets, usando SGD e dataloaders codados na unha\n",
        "\n",
        "import torch\n",
        "from torch import tensor\n",
        "import numpy as np\n",
        "import pandas as pd\n",
        "import fastcore.all as fc\n",
        "import gc\n",
        "import random\n",
        "from itertools import islice"
      ]
    },
    {
      "cell_type": "code",
      "source": [
        "train_path = \"/content/sample_data/mnist_train_small.csv\"\n",
        "valid_path = \"/content/sample_data/mnist_test.csv\"\n",
        "dft = pd.read_csv(train_path)\n",
        "dfv = pd.read_csv(valid_path)\n"
      ],
      "metadata": {
        "id": "WHA8BNBoh37s"
      },
      "execution_count": 79,
      "outputs": []
    },
    {
      "cell_type": "code",
      "source": [
        "train_ds = tensor(dft.values)\n",
        "valid_ds = tensor(dfv.values)"
      ],
      "metadata": {
        "id": "X-EyRHa8iHe2"
      },
      "execution_count": 80,
      "outputs": []
    },
    {
      "cell_type": "code",
      "source": [
        "class Dataset:\n",
        "  def __init__(self,x,y): fc.store_attr()\n",
        "\n",
        "  def __len__(self): return len(self.x)\n",
        "\n",
        "  def __getitem__(self,i): return self.x[i], self.y[i]\n",
        "\n",
        "\n",
        "dst = Dataset(train_ds[:,1:],train_ds[:,0])\n",
        "dsv = Dataset(valid_ds[:,1:],valid_ds[:,0])"
      ],
      "metadata": {
        "id": "O_vNqZjQmBd_"
      },
      "execution_count": 90,
      "outputs": []
    },
    {
      "cell_type": "code",
      "source": [
        "\n",
        "# escolhe a ordem dos elementos a serem pegos do dataloadder\n",
        "\n",
        "class BatchSampler:\n",
        "  def __init__(self,ds,bs,shuffle=False):\n",
        "      fc.store_attr()\n",
        "      self.n = len(ds)\n",
        "\n",
        "      self.sample = list(range(self.n))\n",
        "      if shuffle: random.shuffle(self.sample)\n",
        "  def __iter__(self):\n",
        "      for i in range(0,self.n,self.bs):\n",
        "        indices = list(islice(self.sample,i,min(i+self.bs,self.n)))\n",
        "        yield self.ds[tensor(indices)]\n",
        "\n",
        "\n",
        "\n"
      ],
      "metadata": {
        "id": "inI-RKmeumqR"
      },
      "execution_count": 107,
      "outputs": []
    },
    {
      "cell_type": "code",
      "source": [
        "bs = BatchSampler(dst,8,shuffle=True)\n",
        "next(iter(bs))"
      ],
      "metadata": {
        "id": "EB_MM3gWA4zZ",
        "outputId": "a8db6abc-94c9-409f-c16d-6ec109fa06f8",
        "colab": {
          "base_uri": "https://localhost:8080/"
        }
      },
      "execution_count": 111,
      "outputs": [
        {
          "output_type": "execute_result",
          "data": {
            "text/plain": [
              "(tensor([[0, 0, 0,  ..., 0, 0, 0],\n",
              "         [0, 0, 0,  ..., 0, 0, 0],\n",
              "         [0, 0, 0,  ..., 0, 0, 0],\n",
              "         ...,\n",
              "         [0, 0, 0,  ..., 0, 0, 0],\n",
              "         [0, 0, 0,  ..., 0, 0, 0],\n",
              "         [0, 0, 0,  ..., 0, 0, 0]]),\n",
              " tensor([3, 4, 9, 1, 6, 3, 7, 4]))"
            ]
          },
          "metadata": {},
          "execution_count": 111
        }
      ]
    },
    {
      "cell_type": "code",
      "source": [
        "# construindo o Dataloader\n",
        "\n",
        "class Dataloader:\n",
        "  def __init__(self,ds,bs=64,n_workers=2,transform=fc.noop,): fc.store_attr()\n",
        "  def __iter__(self): pass\n"
      ],
      "metadata": {
        "id": "doPKt_RSkHn1",
        "outputId": "995778d5-3de9-41cf-988a-a3343231aa6d",
        "colab": {
          "base_uri": "https://localhost:8080/",
          "height": 106
        }
      },
      "execution_count": null,
      "outputs": [
        {
          "output_type": "error",
          "ename": "SyntaxError",
          "evalue": "expected '(' (<ipython-input-6-357b0e92897e>, line 5)",
          "traceback": [
            "\u001b[0;36m  File \u001b[0;32m\"<ipython-input-6-357b0e92897e>\"\u001b[0;36m, line \u001b[0;32m5\u001b[0m\n\u001b[0;31m    def __iter\u001b[0m\n\u001b[0m               ^\u001b[0m\n\u001b[0;31mSyntaxError\u001b[0m\u001b[0;31m:\u001b[0m expected '('\n"
          ]
        }
      ]
    }
  ],
  "metadata": {
    "language_info": {
      "name": "python"
    },
    "colab": {
      "provenance": []
    },
    "kernelspec": {
      "name": "python3",
      "display_name": "Python 3"
    }
  },
  "nbformat": 4,
  "nbformat_minor": 0
}